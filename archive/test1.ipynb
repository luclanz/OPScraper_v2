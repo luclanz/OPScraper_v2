{
 "cells": [
  {
   "cell_type": "code",
   "execution_count": 206,
   "metadata": {},
   "outputs": [],
   "source": [
    "from PIL import Image\n",
    "import os\n",
    "import statistics\n",
    "import math\n",
    "\n",
    "data = []\n",
    "for i in os.listdir():\n",
    "   if i.endswith('.png'):\n",
    "      im = Image.open(i, 'r').convert('P')\n",
    "      data.append(tuple((im.size, len(Image.Image.getcolors(im)), i)))"
   ]
  },
  {
   "cell_type": "code",
   "execution_count": 207,
   "metadata": {},
   "outputs": [],
   "source": [
    "colortol = (30, 35, 40, 45, 50)\n",
    "widthtol = (2, 4, 6, 8, 10)\n",
    "\n",
    "#print(f'try colortol = ', end='')\n",
    "for i in range(len(colortol)):\n",
    "    #print(f'{colortol[i]}', end=' ')\n",
    "    data_filtered = filter(lambda ncolor: ncolor[1] < colortol[i] , data)\n",
    "    #data_sorted = sorted(list(data_filtered), key = lambda tup: tup[2])\n",
    "    new_data = list(data_filtered)\n",
    "\n",
    "    if len(new_data) >= 9:\n",
    "        break"
   ]
  },
  {
   "cell_type": "code",
   "execution_count": 208,
   "metadata": {},
   "outputs": [
    {
     "name": "stdout",
     "output_type": "stream",
     "text": [
      "got the pages\n"
     ]
    }
   ],
   "source": [
    "widthtol = 6\n",
    "\n",
    "x_width = [new_data[i][0][0] for i in range(len(new_data))]\n",
    "npages = 0\n",
    "xavg = sum(x_width) / 17\n",
    "for i in range(len(x_width)):\n",
    "    if (x_width[i] < xavg + widthtol) and (x_width[i] > xavg - widthtol):\n",
    "        npages +=1\n",
    "        continue\n",
    "    elif (x_width[i] < (xavg + 3*widthtol)*2) and (x_width[i] > (xavg - 3*widthtol)*2):\n",
    "        npages += 2\n",
    "        continue\n",
    "\n",
    "    print(f'ERROR width page not within parameters, !({(xavg - 3*widthtol)*2:.0f} < {x_width[i]} < {(xavg + 3*widthtol)*2:.0f}): index {i}')\n",
    "    break\n",
    "if npages == 17:\n",
    "    print(f'got the pages')"
   ]
  },
  {
   "cell_type": "code",
   "execution_count": 186,
   "metadata": {},
   "outputs": [
    {
     "data": {
      "text/plain": [
       "True"
      ]
     },
     "execution_count": 186,
     "metadata": {},
     "output_type": "execute_result"
    }
   ],
   "source": []
  },
  {
   "cell_type": "code",
   "execution_count": null,
   "metadata": {},
   "outputs": [],
   "source": []
  }
 ],
 "metadata": {
  "kernelspec": {
   "display_name": "Python 3.10.6 64-bit",
   "language": "python",
   "name": "python3"
  },
  "language_info": {
   "codemirror_mode": {
    "name": "ipython",
    "version": 3
   },
   "file_extension": ".py",
   "mimetype": "text/x-python",
   "name": "python",
   "nbconvert_exporter": "python",
   "pygments_lexer": "ipython3",
   "version": "3.10.6"
  },
  "orig_nbformat": 4,
  "vscode": {
   "interpreter": {
    "hash": "aee8b7b246df8f9039afb4144a1f6fd8d2ca17a180786b69acc140d282b71a49"
   }
  }
 },
 "nbformat": 4,
 "nbformat_minor": 2
}
